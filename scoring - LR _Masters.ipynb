{
 "cells": [
  {
   "cell_type": "code",
   "execution_count": 1,
   "metadata": {},
   "outputs": [],
   "source": [
    "import os\n",
    "import sys\n",
    "import warnings\n",
    "import pandas as pd\n",
    "import seaborn as sns\n",
    "import matplotlib.pyplot as plt\n",
    "import numpy as np\n",
    "\n",
    "import scipy\n",
    "from scipy import stats\n",
    "from scipy.stats import linregress\n",
    "\n",
    "import sklearn\n",
    "from sklearn.cluster import KMeans\n",
    "from sklearn.preprocessing import StandardScaler\n",
    "from sklearn.model_selection import train_test_split\n",
    "from sklearn import metrics\n",
    "from sklearn.datasets.samples_generator import make_blobs\n",
    "\n",
    "warnings.simplefilter('ignore')\n",
    "\n",
    "sns.set(rc={'figure.figsize':(11.7,8.27)})"
   ]
  },
  {
   "cell_type": "code",
   "execution_count": 2,
   "metadata": {
    "scrolled": false
   },
   "outputs": [],
   "source": [
    "dataset = pd.read_csv('PGA_Data_Historical.csv')\n",
    "data = dataset[dataset['Variable'].isin(['SG: Off-the-Tee - (TOTAL SG:OTT)',\n",
    "                                         'SG: Approach-the-Green - (TOTAL SG:APP)',\n",
    "                                         'SG: Around-the-Green - (TOTAL SG:ARG)',\n",
    "                                         'SG: Putting - (TOTAL SG:PUTTING)', \n",
    "                                         'Driving Distance - (AVG.)',\n",
    "                                         'Driving Pct. 300-320 (All Drives) - (%)',\n",
    "                                         'Driving Pct. 320+ (All Drives) - (%)',\n",
    "                                         'Driving Accuracy Percentage - (%)', \n",
    "                                         'Going for the Green - Hit Green Pct. - (%)', \n",
    "                                         'Greens in Regulation Percentage - (%)',\n",
    "                                         'Birdie or Better Percentage - (%)',\n",
    "                                         '3-Putt Avoidance - (%)'])]\n",
    "\n",
    "data['Value'] = pd.to_numeric(data['Value'])"
   ]
  },
  {
   "cell_type": "code",
   "execution_count": 3,
   "metadata": {},
   "outputs": [],
   "source": [
    "pivot = pd.pivot_table(data = data, index = ['Player Name',\"Season\"], columns = 'Variable', values = 'Value')"
   ]
  },
  {
   "cell_type": "code",
   "execution_count": 4,
   "metadata": {},
   "outputs": [
    {
     "data": {
      "text/html": [
       "<div>\n",
       "<style scoped>\n",
       "    .dataframe tbody tr th:only-of-type {\n",
       "        vertical-align: middle;\n",
       "    }\n",
       "\n",
       "    .dataframe tbody tr th {\n",
       "        vertical-align: top;\n",
       "    }\n",
       "\n",
       "    .dataframe thead th {\n",
       "        text-align: right;\n",
       "    }\n",
       "</style>\n",
       "<table border=\"1\" class=\"dataframe\">\n",
       "  <thead>\n",
       "    <tr style=\"text-align: right;\">\n",
       "      <th>Variable</th>\n",
       "      <th>Player Name</th>\n",
       "      <th>Season</th>\n",
       "      <th>3-Putt Avoidance - (%)</th>\n",
       "      <th>Birdie or Better Percentage - (%)</th>\n",
       "      <th>Driving Accuracy Percentage - (%)</th>\n",
       "      <th>Driving Distance - (AVG.)</th>\n",
       "      <th>Driving Pct. 300-320 (All Drives) - (%)</th>\n",
       "      <th>Driving Pct. 320+ (All Drives) - (%)</th>\n",
       "      <th>Going for the Green - Hit Green Pct. - (%)</th>\n",
       "      <th>Greens in Regulation Percentage - (%)</th>\n",
       "      <th>SG: Approach-the-Green - (TOTAL SG:APP)</th>\n",
       "      <th>SG: Around-the-Green - (TOTAL SG:ARG)</th>\n",
       "      <th>SG: Off-the-Tee - (TOTAL SG:OTT)</th>\n",
       "      <th>SG: Putting - (TOTAL SG:PUTTING)</th>\n",
       "    </tr>\n",
       "  </thead>\n",
       "  <tbody>\n",
       "    <tr>\n",
       "      <td>0</td>\n",
       "      <td>Aaron Baddeley</td>\n",
       "      <td>2010</td>\n",
       "      <td>1.89</td>\n",
       "      <td>21.63</td>\n",
       "      <td>56.65</td>\n",
       "      <td>298.9</td>\n",
       "      <td>26.04</td>\n",
       "      <td>10.78</td>\n",
       "      <td>19.53</td>\n",
       "      <td>64.60</td>\n",
       "      <td>-70.141</td>\n",
       "      <td>34.397</td>\n",
       "      <td>9.844</td>\n",
       "      <td>44.202</td>\n",
       "    </tr>\n",
       "    <tr>\n",
       "      <td>1</td>\n",
       "      <td>Aaron Baddeley</td>\n",
       "      <td>2011</td>\n",
       "      <td>2.53</td>\n",
       "      <td>23.09</td>\n",
       "      <td>55.67</td>\n",
       "      <td>296.2</td>\n",
       "      <td>25.92</td>\n",
       "      <td>7.95</td>\n",
       "      <td>22.22</td>\n",
       "      <td>65.48</td>\n",
       "      <td>12.170</td>\n",
       "      <td>27.152</td>\n",
       "      <td>11.751</td>\n",
       "      <td>20.080</td>\n",
       "    </tr>\n",
       "    <tr>\n",
       "      <td>2</td>\n",
       "      <td>Aaron Baddeley</td>\n",
       "      <td>2012</td>\n",
       "      <td>2.47</td>\n",
       "      <td>19.75</td>\n",
       "      <td>54.30</td>\n",
       "      <td>292.0</td>\n",
       "      <td>20.16</td>\n",
       "      <td>13.18</td>\n",
       "      <td>20.69</td>\n",
       "      <td>58.10</td>\n",
       "      <td>-27.731</td>\n",
       "      <td>8.343</td>\n",
       "      <td>-5.945</td>\n",
       "      <td>33.197</td>\n",
       "    </tr>\n",
       "    <tr>\n",
       "      <td>3</td>\n",
       "      <td>Aaron Baddeley</td>\n",
       "      <td>2013</td>\n",
       "      <td>2.69</td>\n",
       "      <td>20.20</td>\n",
       "      <td>50.71</td>\n",
       "      <td>288.5</td>\n",
       "      <td>19.39</td>\n",
       "      <td>6.34</td>\n",
       "      <td>21.24</td>\n",
       "      <td>58.00</td>\n",
       "      <td>-39.474</td>\n",
       "      <td>17.284</td>\n",
       "      <td>-35.590</td>\n",
       "      <td>38.976</td>\n",
       "    </tr>\n",
       "    <tr>\n",
       "      <td>4</td>\n",
       "      <td>Aaron Baddeley</td>\n",
       "      <td>2014</td>\n",
       "      <td>2.16</td>\n",
       "      <td>19.83</td>\n",
       "      <td>52.29</td>\n",
       "      <td>293.8</td>\n",
       "      <td>20.05</td>\n",
       "      <td>7.90</td>\n",
       "      <td>22.32</td>\n",
       "      <td>59.80</td>\n",
       "      <td>-17.143</td>\n",
       "      <td>3.011</td>\n",
       "      <td>-34.723</td>\n",
       "      <td>51.445</td>\n",
       "    </tr>\n",
       "  </tbody>\n",
       "</table>\n",
       "</div>"
      ],
      "text/plain": [
       "Variable     Player Name  Season  3-Putt Avoidance - (%)  \\\n",
       "0         Aaron Baddeley    2010                    1.89   \n",
       "1         Aaron Baddeley    2011                    2.53   \n",
       "2         Aaron Baddeley    2012                    2.47   \n",
       "3         Aaron Baddeley    2013                    2.69   \n",
       "4         Aaron Baddeley    2014                    2.16   \n",
       "\n",
       "Variable  Birdie or Better Percentage - (%)  \\\n",
       "0                                     21.63   \n",
       "1                                     23.09   \n",
       "2                                     19.75   \n",
       "3                                     20.20   \n",
       "4                                     19.83   \n",
       "\n",
       "Variable  Driving Accuracy Percentage - (%)  Driving Distance - (AVG.)  \\\n",
       "0                                     56.65                      298.9   \n",
       "1                                     55.67                      296.2   \n",
       "2                                     54.30                      292.0   \n",
       "3                                     50.71                      288.5   \n",
       "4                                     52.29                      293.8   \n",
       "\n",
       "Variable  Driving Pct. 300-320 (All Drives) - (%)  \\\n",
       "0                                           26.04   \n",
       "1                                           25.92   \n",
       "2                                           20.16   \n",
       "3                                           19.39   \n",
       "4                                           20.05   \n",
       "\n",
       "Variable  Driving Pct. 320+ (All Drives) - (%)  \\\n",
       "0                                        10.78   \n",
       "1                                         7.95   \n",
       "2                                        13.18   \n",
       "3                                         6.34   \n",
       "4                                         7.90   \n",
       "\n",
       "Variable  Going for the Green - Hit Green Pct. - (%)  \\\n",
       "0                                              19.53   \n",
       "1                                              22.22   \n",
       "2                                              20.69   \n",
       "3                                              21.24   \n",
       "4                                              22.32   \n",
       "\n",
       "Variable  Greens in Regulation Percentage - (%)  \\\n",
       "0                                         64.60   \n",
       "1                                         65.48   \n",
       "2                                         58.10   \n",
       "3                                         58.00   \n",
       "4                                         59.80   \n",
       "\n",
       "Variable  SG: Approach-the-Green - (TOTAL SG:APP)  \\\n",
       "0                                         -70.141   \n",
       "1                                          12.170   \n",
       "2                                         -27.731   \n",
       "3                                         -39.474   \n",
       "4                                         -17.143   \n",
       "\n",
       "Variable  SG: Around-the-Green - (TOTAL SG:ARG)  \\\n",
       "0                                        34.397   \n",
       "1                                        27.152   \n",
       "2                                         8.343   \n",
       "3                                        17.284   \n",
       "4                                         3.011   \n",
       "\n",
       "Variable  SG: Off-the-Tee - (TOTAL SG:OTT)  SG: Putting - (TOTAL SG:PUTTING)  \n",
       "0                                    9.844                            44.202  \n",
       "1                                   11.751                            20.080  \n",
       "2                                   -5.945                            33.197  \n",
       "3                                  -35.590                            38.976  \n",
       "4                                  -34.723                            51.445  "
      ]
     },
     "execution_count": 4,
     "metadata": {},
     "output_type": "execute_result"
    }
   ],
   "source": [
    "pivot_index = pivot.reset_index()\n",
    "pivot_index.head()"
   ]
  },
  {
   "cell_type": "code",
   "execution_count": 7,
   "metadata": {},
   "outputs": [
    {
     "data": {
      "text/plain": [
       "1677"
      ]
     },
     "execution_count": 7,
     "metadata": {},
     "output_type": "execute_result"
    }
   ],
   "source": [
    "df_row_merged = pivot_index.dropna()\n",
    "len(df_row_merged)\n"
   ]
  },
  {
   "cell_type": "markdown",
   "metadata": {},
   "source": [
    "### Start Labeling"
   ]
  },
  {
   "cell_type": "code",
   "execution_count": 8,
   "metadata": {},
   "outputs": [],
   "source": [
    "#2010 Top Performers\n",
    "df_row_merged.loc[(df_row_merged['Player Name'] == 'Phil Mickelson') & (df_row_merged['Season'] == 2010), 'Label'] = float(1)\n",
    "df_row_merged.loc[(df_row_merged['Player Name'] == 'Lee Westwood') & (df_row_merged['Season'] == 2010), 'Label'] = float(1)\n",
    "df_row_merged.loc[(df_row_merged['Player Name'] == 'Anthony Kim') & (df_row_merged['Season'] == 2010), 'Label'] = float(1)\n",
    "df_row_merged.loc[(df_row_merged['Player Name'] == 'K.J. Choi') & (df_row_merged['Season'] == 2010), 'Label'] = float(1)\n",
    "df_row_merged.loc[(df_row_merged['Player Name'] == 'Tiger Woods') & (df_row_merged['Season'] == 2010), 'Label'] = float(1)\n",
    "df_row_merged.loc[(df_row_merged['Player Name'] == 'Fred Couples') & (df_row_merged['Season'] == 2010), 'Label'] = float(1)\n",
    "df_row_merged.loc[(df_row_merged['Player Name'] == 'Nick Watney') & (df_row_merged['Season'] == 2010), 'Label'] = float(1)\n",
    "df_row_merged.loc[(df_row_merged['Player Name'] == 'Hunter Mahan') & (df_row_merged['Season'] == 2010), 'Label'] = float(1)\n",
    "df_row_merged.loc[(df_row_merged['Player Name'] == 'Y.E. Yang') & (df_row_merged['Season'] == 2010), 'Label'] = float(1)\n",
    "df_row_merged.loc[(df_row_merged['Player Name'] == 'Ricky Barnes') & (df_row_merged['Season'] == 2010), 'Label'] = float(1)"
   ]
  },
  {
   "cell_type": "code",
   "execution_count": 9,
   "metadata": {},
   "outputs": [],
   "source": [
    "#2011 Top Performers\n",
    "df_row_merged.loc[(df_row_merged['Player Name'] == 'Charl Schwartzel') & (df_row_merged['Season'] == 2011), 'Label'] = float(1)\n",
    "df_row_merged.loc[(df_row_merged['Player Name'] == 'Jason Day') & (df_row_merged['Season'] == 2011), 'Label'] = float(1)\n",
    "df_row_merged.loc[(df_row_merged['Player Name'] == 'Adam Scott') & (df_row_merged['Season'] == 2011), 'Label'] = float(1)\n",
    "df_row_merged.loc[(df_row_merged['Player Name'] == 'Luke Donald') & (df_row_merged['Season'] == 2011), 'Label'] = float(1)\n",
    "df_row_merged.loc[(df_row_merged['Player Name'] == 'Geoff Ogilvy') & (df_row_merged['Season'] == 2011), 'Label'] = float(1)\n",
    "df_row_merged.loc[(df_row_merged['Player Name'] == 'Tiger Woods') & (df_row_merged['Season'] == 2011), 'Label'] = float(1)\n",
    "df_row_merged.loc[(df_row_merged['Player Name'] == 'Angel Cabrera') & (df_row_merged['Season'] == 2011), 'Label'] = float(1)\n",
    "df_row_merged.loc[(df_row_merged['Player Name'] == 'K.J. Choi') & (df_row_merged['Season'] == 2011), 'Label'] = float(1)\n",
    "df_row_merged.loc[(df_row_merged['Player Name'] == 'Bo Van Pelt') & (df_row_merged['Season'] == 2011), 'Label'] = float(1)\n",
    "df_row_merged.loc[(df_row_merged['Player Name'] == 'Ryan Palmer') & (df_row_merged['Season'] == 2011), 'Label'] = float(1)\n",
    "df_row_merged.loc[(df_row_merged['Player Name'] == 'Edoardo Molinari') & (df_row_merged['Season'] == 2011), 'Label'] = float(1)"
   ]
  },
  {
   "cell_type": "code",
   "execution_count": 10,
   "metadata": {},
   "outputs": [],
   "source": [
    "#2012 Top Performers\n",
    "df_row_merged.loc[(df_row_merged['Player Name'] == 'Bubba Watson') & (df_row_merged['Season'] == 2012), 'Label'] = float(1)\n",
    "df_row_merged.loc[(df_row_merged['Player Name'] == 'Louis Oosthuizen') & (df_row_merged['Season'] == 2012), 'Label'] = float(1)\n",
    "df_row_merged.loc[(df_row_merged['Player Name'] == 'Peter Hanson') & (df_row_merged['Season'] == 2012), 'Label'] = float(1)\n",
    "df_row_merged.loc[(df_row_merged['Player Name'] == 'Matt Kuchar') & (df_row_merged['Season'] == 2012), 'Label'] = float(1)\n",
    "df_row_merged.loc[(df_row_merged['Player Name'] == 'Phil Mickelson') & (df_row_merged['Season'] == 2012), 'Label'] = float(1)\n",
    "df_row_merged.loc[(df_row_merged['Player Name'] == 'Lee Westwood') & (df_row_merged['Season'] == 2012), 'Label'] = float(1)\n",
    "df_row_merged.loc[(df_row_merged['Player Name'] == 'Ian Poulter') & (df_row_merged['Season'] == 2012), 'Label'] = float(1)\n",
    "df_row_merged.loc[(df_row_merged['Player Name'] == 'Padraig Harrington') & (df_row_merged['Season'] == 2012), 'Label'] = float(1)\n",
    "df_row_merged.loc[(df_row_merged['Player Name'] == 'Justin Rose') & (df_row_merged['Season'] == 2012), 'Label'] = float(1)\n",
    "df_row_merged.loc[(df_row_merged['Player Name'] == 'Adam Scott') & (df_row_merged['Season'] == 2012), 'Label'] = float(1)"
   ]
  },
  {
   "cell_type": "code",
   "execution_count": 11,
   "metadata": {},
   "outputs": [],
   "source": [
    "#2013 Top Performers\n",
    "df_row_merged.loc[(df_row_merged['Player Name'] == 'Adam Scott') & (df_row_merged['Season'] == 2013), 'Label'] = float(1)\n",
    "df_row_merged.loc[(df_row_merged['Player Name'] == 'Angel Cabrera') & (df_row_merged['Season'] == 2013), 'Label'] = float(1)\n",
    "df_row_merged.loc[(df_row_merged['Player Name'] == 'Jason Day') & (df_row_merged['Season'] == 2013), 'Label'] = float(1)\n",
    "df_row_merged.loc[(df_row_merged['Player Name'] == 'Marc Leishman') & (df_row_merged['Season'] == 2013), 'Label'] = float(1)\n",
    "df_row_merged.loc[(df_row_merged['Player Name'] == 'Tiger Woods') & (df_row_merged['Season'] == 2013), 'Label'] = float(1)\n",
    "df_row_merged.loc[(df_row_merged['Player Name'] == 'Thorbjorn Olesen') & (df_row_merged['Season'] == 2013), 'Label'] = float(1)\n",
    "df_row_merged.loc[(df_row_merged['Player Name'] == 'Brandt Snedeker') & (df_row_merged['Season'] == 2013), 'Label'] = float(1)\n",
    "df_row_merged.loc[(df_row_merged['Player Name'] == 'Sergio Garcia') & (df_row_merged['Season'] == 2013), 'Label'] = float(1)\n",
    "df_row_merged.loc[(df_row_merged['Player Name'] == 'Matt Kuchar') & (df_row_merged['Season'] == 2013), 'Label'] = float(1)\n",
    "df_row_merged.loc[(df_row_merged['Player Name'] == 'Lee Westwood') & (df_row_merged['Season'] == 2013), 'Label'] = float(1)"
   ]
  },
  {
   "cell_type": "code",
   "execution_count": 12,
   "metadata": {},
   "outputs": [],
   "source": [
    "#2014 Top Performaers\n",
    "df_row_merged.loc[(df_row_merged['Player Name'] == 'Bubba Watson') & (df_row_merged['Season'] == 2014), 'Label'] = float(1)\n",
    "df_row_merged.loc[(df_row_merged['Player Name'] == 'Jonas Blixt') & (df_row_merged['Season'] == 2014), 'Label'] = float(1)\n",
    "df_row_merged.loc[(df_row_merged['Player Name'] == 'Jordan Spieth') & (df_row_merged['Season'] == 2014), 'Label'] = float(1)\n",
    "df_row_merged.loc[(df_row_merged['Player Name'] == 'Miguel Angel Jimenez') & (df_row_merged['Season'] == 2014), 'Label'] = float(1)\n",
    "df_row_merged.loc[(df_row_merged['Player Name'] == 'Rickie Fowler') & (df_row_merged['Season'] == 2014), 'Label'] = float(1)\n",
    "df_row_merged.loc[(df_row_merged['Player Name'] == 'Matt Kuchar') & (df_row_merged['Season'] == 2014), 'Label'] = float(1)\n",
    "df_row_merged.loc[(df_row_merged['Player Name'] == 'Lee Westwood') & (df_row_merged['Season'] == 2014), 'Label'] = float(1)\n",
    "df_row_merged.loc[(df_row_merged['Player Name'] == 'Thomas Bjorn') & (df_row_merged['Season'] == 2014), 'Label'] = float(1)\n",
    "df_row_merged.loc[(df_row_merged['Player Name'] == 'Bernhard Langer') & (df_row_merged['Season'] == 2014), 'Label'] = float(1)"
   ]
  },
  {
   "cell_type": "code",
   "execution_count": 13,
   "metadata": {},
   "outputs": [],
   "source": [
    "#2015 Top Performers\n",
    "df_row_merged.loc[(df_row_merged['Player Name'] == 'Jordan Spieth') & (df_row_merged['Season'] == 2015), 'Label'] = float(1)\n",
    "df_row_merged.loc[(df_row_merged['Player Name'] == 'Phil Mickelson') & (df_row_merged['Season'] == 2015), 'Label'] = float(1)\n",
    "df_row_merged.loc[(df_row_merged['Player Name'] == 'Justin Rose') & (df_row_merged['Season'] == 2015), 'Label'] = float(1)\n",
    "df_row_merged.loc[(df_row_merged['Player Name'] == 'Rory McIlroy') & (df_row_merged['Season'] == 2015), 'Label'] = float(1)\n",
    "df_row_merged.loc[(df_row_merged['Player Name'] == 'Hideki Matsuyama') & (df_row_merged['Season'] == 2015), 'Label'] = float(1)\n",
    "df_row_merged.loc[(df_row_merged['Player Name'] == 'Paul Casey') & (df_row_merged['Season'] == 2015), 'Label'] = float(1)\n",
    "df_row_merged.loc[(df_row_merged['Player Name'] == 'Dustin Johnson') & (df_row_merged['Season'] == 2015), 'Label'] = float(1)\n",
    "df_row_merged.loc[(df_row_merged['Player Name'] == 'Ian Poulter') & (df_row_merged['Season'] == 2015), 'Label'] = float(1)\n",
    "df_row_merged.loc[(df_row_merged['Player Name'] == 'Charley Hoffman') & (df_row_merged['Season'] == 2015), 'Label'] = float(1)\n",
    "df_row_merged.loc[(df_row_merged['Player Name'] == 'Zach Johnson') & (df_row_merged['Season'] == 2015), 'Label'] = float(1)"
   ]
  },
  {
   "cell_type": "code",
   "execution_count": 14,
   "metadata": {},
   "outputs": [],
   "source": [
    "#2016 Top Performers\n",
    "df_row_merged.loc[(df_row_merged['Player Name'] == 'Danny Willett') & (df_row_merged['Season'] == 2016), 'Label'] = float(1)\n",
    "df_row_merged.loc[(df_row_merged['Player Name'] == 'Jordan Spieth') & (df_row_merged['Season'] == 2016), 'Label'] = float(1)\n",
    "df_row_merged.loc[(df_row_merged['Player Name'] == 'Lee Westwood') & (df_row_merged['Season'] == 2016), 'Label'] = float(1)\n",
    "df_row_merged.loc[(df_row_merged['Player Name'] == 'Paul Casey') & (df_row_merged['Season'] == 2016), 'Label'] = float(1)\n",
    "df_row_merged.loc[(df_row_merged['Player Name'] == 'J.B. Holmes') & (df_row_merged['Season'] == 2016), 'Label'] = float(1)\n",
    "df_row_merged.loc[(df_row_merged['Player Name'] == 'Dustin Johnson') & (df_row_merged['Season'] == 2016), 'Label'] = float(1)\n",
    "df_row_merged.loc[(df_row_merged['Player Name'] == 'Matthew Fitzpatrick') & (df_row_merged['Season'] == 2016), 'Label'] = float(1)\n",
    "df_row_merged.loc[(df_row_merged['Player Name'] == 'Soren Kjeldsen') & (df_row_merged['Season'] == 2016), 'Label'] = float(1)\n",
    "df_row_merged.loc[(df_row_merged['Player Name'] == 'Hideki Matsuyama') & (df_row_merged['Season'] == 2016), 'Label'] = float(1)\n",
    "df_row_merged.loc[(df_row_merged['Player Name'] == 'Daniel Berger') & (df_row_merged['Season'] == 2016), 'Label'] = float(1)"
   ]
  },
  {
   "cell_type": "code",
   "execution_count": 15,
   "metadata": {},
   "outputs": [],
   "source": [
    "#2017 Top Performers\n",
    "df_row_merged.loc[(df_row_merged['Player Name'] == 'Sergio Garcia') & (df_row_merged['Season'] == 2017), 'Label'] = float(1)\n",
    "df_row_merged.loc[(df_row_merged['Player Name'] == 'Justin Rose') & (df_row_merged['Season'] == 2017), 'Label'] = float(1)\n",
    "df_row_merged.loc[(df_row_merged['Player Name'] == 'Charl Schwartzel') & (df_row_merged['Season'] == 2017), 'Label'] = float(1)\n",
    "df_row_merged.loc[(df_row_merged['Player Name'] == 'Matt Kuchar') & (df_row_merged['Season'] == 2017), 'Label'] = float(1)\n",
    "df_row_merged.loc[(df_row_merged['Player Name'] == 'Thomas Pieters') & (df_row_merged['Season'] == 2017), 'Label'] = float(1)\n",
    "df_row_merged.loc[(df_row_merged['Player Name'] == 'Paul Casey') & (df_row_merged['Season'] == 2017), 'Label'] = float(1)\n",
    "df_row_merged.loc[(df_row_merged['Player Name'] == 'Kevin Chappell') & (df_row_merged['Season'] == 2017), 'Label'] = float(1)\n",
    "df_row_merged.loc[(df_row_merged['Player Name'] == 'Rory McIlroy') & (df_row_merged['Season'] == 2017), 'Label'] = float(1)\n",
    "df_row_merged.loc[(df_row_merged['Player Name'] == 'Ryan Moore') & (df_row_merged['Season'] == 2017), 'Label'] = float(1)\n",
    "df_row_merged.loc[(df_row_merged['Player Name'] == 'Adam Scott') & (df_row_merged['Season'] == 2017), 'Label'] = float(1)"
   ]
  },
  {
   "cell_type": "code",
   "execution_count": 16,
   "metadata": {},
   "outputs": [],
   "source": [
    "#2018 Top Performers\n",
    "df_row_merged.loc[(df_row_merged['Player Name'] == 'Patrick Reed') & (df_row_merged['Season'] == 2018), 'Label'] = float(1)\n",
    "df_row_merged.loc[(df_row_merged['Player Name'] == 'Rickie Fowler') & (df_row_merged['Season'] == 2018), 'Label'] = float(1)\n",
    "df_row_merged.loc[(df_row_merged['Player Name'] == 'Jordan Spieth') & (df_row_merged['Season'] == 2018), 'Label'] = float(1)\n",
    "df_row_merged.loc[(df_row_merged['Player Name'] == 'Jon Rahm') & (df_row_merged['Season'] == 2018), 'Label'] = float(1)\n",
    "df_row_merged.loc[(df_row_merged['Player Name'] == 'Rory McIlroy') & (df_row_merged['Season'] == 2018), 'Label'] = float(1)\n",
    "df_row_merged.loc[(df_row_merged['Player Name'] == 'Cameron Smith') & (df_row_merged['Season'] == 2018), 'Label'] = float(1)\n",
    "df_row_merged.loc[(df_row_merged['Player Name'] == 'Henrik Stenson') & (df_row_merged['Season'] == 2018), 'Label'] = float(1)\n",
    "df_row_merged.loc[(df_row_merged['Player Name'] == 'Bubba Watson') & (df_row_merged['Season'] == 2018), 'Label'] = float(1)\n",
    "df_row_merged.loc[(df_row_merged['Player Name'] == 'Marc Leishman') & (df_row_merged['Season'] == 2018), 'Label'] = float(1)\n",
    "df_row_merged.loc[(df_row_merged['Player Name'] == 'Tony Finau') & (df_row_merged['Season'] == 2018), 'Label'] = float(1)"
   ]
  },
  {
   "cell_type": "code",
   "execution_count": 17,
   "metadata": {},
   "outputs": [],
   "source": [
    "#2019 Top Performers\n",
    "df_row_merged.loc[(df_row_merged['Player Name'] == 'Tiger Woods') & (df_row_merged['Season'] == 2019), 'Label'] = float(1)\n",
    "df_row_merged.loc[(df_row_merged['Player Name'] == 'Dustin Johnson') & (df_row_merged['Season'] == 2019), 'Label'] = float(1)\n",
    "df_row_merged.loc[(df_row_merged['Player Name'] == 'Brooks Koepka') & (df_row_merged['Season'] == 2019), 'Label'] = float(1)\n",
    "df_row_merged.loc[(df_row_merged['Player Name'] == 'Xander Schauffele') & (df_row_merged['Season'] == 2019), 'Label'] = float(1)\n",
    "df_row_merged.loc[(df_row_merged['Player Name'] == 'Jason Day') & (df_row_merged['Season'] == 2019), 'Label'] = float(1)\n",
    "df_row_merged.loc[(df_row_merged['Player Name'] == 'Tony Finau') & (df_row_merged['Season'] == 2019), 'Label'] = float(1)\n",
    "df_row_merged.loc[(df_row_merged['Player Name'] == 'Francesco Molinari') & (df_row_merged['Season'] == 2019), 'Label'] = float(1)\n",
    "df_row_merged.loc[(df_row_merged['Player Name'] == 'Web Simpson') & (df_row_merged['Season'] == 2019), 'Label'] = float(1)\n",
    "df_row_merged.loc[(df_row_merged['Player Name'] == 'Patrick Cantlay') & (df_row_merged['Season'] == 2019), 'Label'] = float(1)\n",
    "df_row_merged.loc[(df_row_merged['Player Name'] == 'Ricky Fowler') & (df_row_merged['Season'] == 2019), 'Label'] = float(1)\n",
    "df_row_merged.loc[(df_row_merged['Player Name'] == 'John Rahm') & (df_row_merged['Season'] == 2019), 'Label'] = float(1)"
   ]
  },
  {
   "cell_type": "code",
   "execution_count": 18,
   "metadata": {},
   "outputs": [
    {
     "data": {
      "text/plain": [
       "\"df_row_merged is the dataframe to use for the cluster model. Below this cell I set anyone that doesn't have a1 label to 0.\\n\\n\""
      ]
     },
     "execution_count": 18,
     "metadata": {},
     "output_type": "execute_result"
    }
   ],
   "source": [
    "'''df_row_merged is the dataframe to use for the cluster model. Below this cell I set anyone that doesn't have a1 label to 0.\n",
    "\n",
    "'''\n"
   ]
  },
  {
   "cell_type": "code",
   "execution_count": 24,
   "metadata": {},
   "outputs": [
    {
     "ename": "AttributeError",
     "evalue": "'int' object has no attribute 'fillna'",
     "output_type": "error",
     "traceback": [
      "\u001b[1;31m---------------------------------------------------------------------------\u001b[0m",
      "\u001b[1;31mAttributeError\u001b[0m                            Traceback (most recent call last)",
      "\u001b[1;32m<ipython-input-24-00decc231bd9>\u001b[0m in \u001b[0;36m<module>\u001b[1;34m\u001b[0m\n\u001b[1;32m----> 1\u001b[1;33m \u001b[0mdf_row_merged\u001b[0m \u001b[1;33m=\u001b[0m \u001b[0mdf_row_merged\u001b[0m\u001b[1;33m.\u001b[0m\u001b[0mfillna\u001b[0m\u001b[1;33m(\u001b[0m\u001b[1;36m0\u001b[0m\u001b[1;33m)\u001b[0m\u001b[1;33m\u001b[0m\u001b[1;33m\u001b[0m\u001b[0m\n\u001b[0m",
      "\u001b[1;31mAttributeError\u001b[0m: 'int' object has no attribute 'fillna'"
     ]
    }
   ],
   "source": [
    "df_row_merged = df_row_merged.fillna(0)\n"
   ]
  },
  {
   "cell_type": "code",
   "execution_count": 18,
   "metadata": {},
   "outputs": [],
   "source": [
    "Label = df_row_merged['Label']\n",
    "blob_prep = df_row_merged[['SG: Approach-the-Green - (TOTAL SG:APP)',\n",
    "                           'SG: Around-the-Green - (TOTAL SG:ARG)',\n",
    "                           'SG: Off-the-Tee - (TOTAL SG:OTT)',\n",
    "                           'SG: Putting - (TOTAL SG:PUTTING)']]"
   ]
  },
  {
   "cell_type": "code",
   "execution_count": 19,
   "metadata": {},
   "outputs": [
    {
     "data": {
      "text/html": [
       "<div>\n",
       "<style scoped>\n",
       "    .dataframe tbody tr th:only-of-type {\n",
       "        vertical-align: middle;\n",
       "    }\n",
       "\n",
       "    .dataframe tbody tr th {\n",
       "        vertical-align: top;\n",
       "    }\n",
       "\n",
       "    .dataframe thead th {\n",
       "        text-align: right;\n",
       "    }\n",
       "</style>\n",
       "<table border=\"1\" class=\"dataframe\">\n",
       "  <thead>\n",
       "    <tr style=\"text-align: right;\">\n",
       "      <th>Variable</th>\n",
       "      <th>SG: Approach-the-Green - (TOTAL SG:APP)</th>\n",
       "      <th>SG: Around-the-Green - (TOTAL SG:ARG)</th>\n",
       "      <th>SG: Off-the-Tee - (TOTAL SG:OTT)</th>\n",
       "      <th>SG: Putting - (TOTAL SG:PUTTING)</th>\n",
       "    </tr>\n",
       "  </thead>\n",
       "  <tbody>\n",
       "    <tr>\n",
       "      <td>0</td>\n",
       "      <td>0.0</td>\n",
       "      <td>0.0</td>\n",
       "      <td>0.0</td>\n",
       "      <td>0.0</td>\n",
       "    </tr>\n",
       "    <tr>\n",
       "      <td>1</td>\n",
       "      <td>0.0</td>\n",
       "      <td>0.0</td>\n",
       "      <td>0.0</td>\n",
       "      <td>0.0</td>\n",
       "    </tr>\n",
       "    <tr>\n",
       "      <td>2</td>\n",
       "      <td>0.0</td>\n",
       "      <td>0.0</td>\n",
       "      <td>0.0</td>\n",
       "      <td>0.0</td>\n",
       "    </tr>\n",
       "    <tr>\n",
       "      <td>3</td>\n",
       "      <td>0.0</td>\n",
       "      <td>0.0</td>\n",
       "      <td>0.0</td>\n",
       "      <td>0.0</td>\n",
       "    </tr>\n",
       "    <tr>\n",
       "      <td>4</td>\n",
       "      <td>0.0</td>\n",
       "      <td>0.0</td>\n",
       "      <td>0.0</td>\n",
       "      <td>0.0</td>\n",
       "    </tr>\n",
       "  </tbody>\n",
       "</table>\n",
       "</div>"
      ],
      "text/plain": [
       "Variable  SG: Approach-the-Green - (TOTAL SG:APP)  \\\n",
       "0                                             0.0   \n",
       "1                                             0.0   \n",
       "2                                             0.0   \n",
       "3                                             0.0   \n",
       "4                                             0.0   \n",
       "\n",
       "Variable  SG: Around-the-Green - (TOTAL SG:ARG)  \\\n",
       "0                                           0.0   \n",
       "1                                           0.0   \n",
       "2                                           0.0   \n",
       "3                                           0.0   \n",
       "4                                           0.0   \n",
       "\n",
       "Variable  SG: Off-the-Tee - (TOTAL SG:OTT)  SG: Putting - (TOTAL SG:PUTTING)  \n",
       "0                                      0.0                               0.0  \n",
       "1                                      0.0                               0.0  \n",
       "2                                      0.0                               0.0  \n",
       "3                                      0.0                               0.0  \n",
       "4                                      0.0                               0.0  "
      ]
     },
     "execution_count": 19,
     "metadata": {},
     "output_type": "execute_result"
    }
   ],
   "source": [
    "blob_prep.head()"
   ]
  },
  {
   "cell_type": "code",
   "execution_count": 20,
   "metadata": {},
   "outputs": [],
   "source": [
    "X = np.array(blob_prep.astype(float))"
   ]
  },
  {
   "cell_type": "code",
   "execution_count": 22,
   "metadata": {},
   "outputs": [
    {
     "data": {
      "text/plain": [
       "<matplotlib.collections.PathCollection at 0x14b91694cc8>"
      ]
     },
     "execution_count": 22,
     "metadata": {},
     "output_type": "execute_result"
    },
    {
     "data": {
      "image/png": "[encoded data removed]",
      "text/plain": [
       "<Figure size 432x288 with 1 Axes>"
      ]
     },
     "metadata": {
      "needs_background": "light"
     },
     "output_type": "display_data"
    }
   ],
   "source": [
    "plt.scatter(X[:, 0], X[:, 1])"
   ]
  },
  {
   "cell_type": "code",
   "execution_count": null,
   "metadata": {},
   "outputs": [],
   "source": [
    "kmeans = KMeans(n_clusters=3)\n",
    "\n",
    "# Fit the model to the data\n",
    "kmeans.fit(X)\n",
    "\n",
    "# Use the data to predict the clusters\n",
    "# save the predictions as `predicted_clusters`\n",
    "predicted_clusters = kmeans.predict(X)"
   ]
  },
  {
   "cell_type": "code",
   "execution_count": null,
   "metadata": {},
   "outputs": [],
   "source": [
    "plt.scatter(X[:, 0], X[:, 1], c=predicted_clusters, s=50, cmap='viridis')\n",
    "plt.show()"
   ]
  },
  {
   "cell_type": "code",
   "execution_count": null,
   "metadata": {},
   "outputs": [],
   "source": [
    "centers = kmeans.cluster_centers_\n",
    "labels = kmeans.labels_\n",
    "\n",
    "plt.scatter(X[:, 0], X[:, 1], c=labels, s=50, cmap='viridis')\n",
    "plt.scatter(centers[:, 0], centers[:, 1], c='black', s=200, alpha=0.5)\n",
    "\n",
    "plt.show()"
   ]
  },
  {
   "cell_type": "code",
   "execution_count": null,
   "metadata": {},
   "outputs": [],
   "source": [
    "sum_of_squared_distances = []\n",
    "K = range(1,15)\n",
    "for k in K:\n",
    "    km = KMeans(n_clusters=k)\n",
    "    km = km.fit(X)\n",
    "    sum_of_squared_distances.append(km.inertia_)\n",
    "    \n",
    "plt.plot(K, sum_of_squared_distances, 'bx-')\n",
    "plt.xlabel('k')\n",
    "plt.ylabel('Sum_of_squared_distances')\n",
    "plt.title('Elbow Method For Optimal k')\n",
    "plt.show()"
   ]
  },
  {
   "cell_type": "code",
   "execution_count": null,
   "metadata": {},
   "outputs": [],
   "source": [
    "cluster = kmeans.labels_\n",
    "blob_prep['Cluster'] = cluster.tolist()\n",
    "\n",
    "blob_prep = blob_prep[blob_prep['Label'] == 1]\n",
    "winners.head(50)"
   ]
  },
  {
   "cell_type": "code",
   "execution_count": null,
   "metadata": {},
   "outputs": [],
   "source": []
  },
  {
   "cell_type": "code",
   "execution_count": null,
   "metadata": {},
   "outputs": [],
   "source": [
    "#Driving Distance - AVG.\n",
    "\n",
    "'''The average number of yards per measured drive. These drives are measured on two holes per round. \n",
    "Care is taken to select two holes which face in opposite directions to counteract the effect of wind. \n",
    "Drives are measured to the point at which they come to rest regardless of whether they are in the fairway or not.'''\n",
    "\n",
    "x_values = df_row_merged['Driving Distance - (AVG.)']\n",
    "y_values = df_row_merged['SG: Off-the-Tee - (TOTAL SG:OTT)']\n",
    "f=df_row_merged.loc[df_row_merged['Label']==1]\n",
    "\n",
    "(slope, intercept, rvalue, pvalue, stderr) = linregress(x_values, y_values)\n",
    "regress_values = x_values * slope + intercept\n",
    "line_eq = \"y = \" + str(round(slope,2)) + \"x + \" + str(round(intercept,2))\n",
    "\n",
    "plt.scatter(x_values, y_values)\n",
    "plt.scatter(f['Driving Distance - (AVG.)'],f['SG: Off-the-Tee - (TOTAL SG:OTT)'], color='red')\n",
    "plt.plot(x_values,regress_values,\"r-\")\n",
    "# plt.annotate(line_eq,(6,10),fontsize=15,color=\"red\")\n",
    "\n",
    "plt.xlabel('Driving Distance - AVG.',size=16)\n",
    "# set y-axis label and specific size\n",
    "plt.ylabel('Strokes Gained',size=16)\n",
    "\n",
    "plt.show()\n",
    "\n",
    "print(f\"The r-squared is: {rvalue}\")\n",
    "\n",
    "# save the plot as PNG file with dpi=150\n",
    "plt.savefig('Driving_distance.png', dpi=150)"
   ]
  },
  {
   "cell_type": "code",
   "execution_count": null,
   "metadata": {},
   "outputs": [],
   "source": [
    "#Driving Accuracy Percentage - (%)\n",
    "\n",
    "'''The percentage of time a tee shot comes to rest in the fairway (regardless of club).'''\n",
    "\n",
    "x_values = df_row_merged['Driving Accuracy Percentage - (%)']\n",
    "y_values = df_row_merged['SG: Off-the-Tee - (TOTAL SG:OTT)']\n",
    "f=df_row_merged.loc[df_row_merged['Label']==1]\n",
    "\n",
    "(slope, intercept, rvalue, pvalue, stderr) = linregress(x_values, y_values)\n",
    "regress_values = x_values * slope + intercept\n",
    "line_eq = \"y = \" + str(round(slope,2)) + \"x + \" + str(round(intercept,2))\n",
    "\n",
    "plt.scatter(x_values, y_values)\n",
    "plt.scatter(f['Driving Accuracy Percentage - (%)'],f['SG: Off-the-Tee - (TOTAL SG:OTT)'], color='red')\n",
    "plt.plot(x_values,regress_values,\"r-\")\n",
    "# plt.annotate(line_eq,(6,10),fontsize=15,color=\"red\")\n",
    "\n",
    "plt.xlabel('Driving Accuracy Percentage - (%)',size=16)\n",
    "# set y-axis label and specific size\n",
    "plt.ylabel('Strokes Gained',size=16)\n",
    "\n",
    "plt.show()\n",
    "\n",
    "print(f\"The r-squared is: {rvalue}\")\n",
    "\n",
    "# save the plot as PNG file with dpi=150\n",
    "plt.savefig('Driving_accuracy.png', dpi=150)"
   ]
  },
  {
   "cell_type": "code",
   "execution_count": null,
   "metadata": {},
   "outputs": [],
   "source": [
    "#Going for the Green - Hit Green Pct. - (%)\n",
    "\n",
    "'''The percent of time a player attempting to go for the green is successful. \n",
    "A player is assumed to be going for the green if the first shot on a par 4 or second shot on a par 5 lands on \n",
    "or around the green. \n",
    "\n",
    "If the second shot on a par 5 lands in the water, it is included as well. \n",
    "Note: 'Around the green' indicates the ball is within 30 yards of the edge of the green; \n",
    "the shot must be determined by a laser to be included. (486)'''\n",
    "\n",
    "x_values = df_row_merged['Going for the Green - Hit Green Pct. - (%)']\n",
    "y_values = df_row_merged['SG: Approach-the-Green - (TOTAL SG:APP)']\n",
    "f=df_row_merged.loc[df_row_merged['Label']==1]\n",
    "\n",
    "(slope, intercept, rvalue, pvalue, stderr) = linregress(x_values, y_values)\n",
    "regress_values = x_values * slope + intercept\n",
    "line_eq = \"y = \" + str(round(slope,2)) + \"x + \" + str(round(intercept,2))\n",
    "\n",
    "plt.scatter(x_values, y_values)\n",
    "plt.scatter(f['Going for the Green - Hit Green Pct. - (%)'],f['SG: Approach-the-Green - (TOTAL SG:APP)'], color='red')\n",
    "plt.plot(x_values,regress_values,\"r-\")\n",
    "# plt.annotate(line_eq,(6,10),fontsize=15,color=\"red\")\n",
    "\n",
    "plt.xlabel('Going for the Green - Hit Green Pct. - (%)',size=16)\n",
    "# set y-axis label and specific size\n",
    "plt.ylabel('Strokes Gained',size=16)\n",
    "\n",
    "plt.show()\n",
    "\n",
    "print(f\"The r-squared is: {rvalue}\")\n",
    "\n",
    "# save the plot as PNG file with dpi=150\n",
    "plt.savefig('Going_for_green.png', dpi=150)"
   ]
  },
  {
   "cell_type": "code",
   "execution_count": null,
   "metadata": {},
   "outputs": [],
   "source": [
    "#Greens in Regulation Percentage - (%)\n",
    "\n",
    "'''The percent of time a player was able to hit the green in regulation (greens hit in regulation/holes played). \n",
    "Note: A green is considered hit in regulation if any portion of the ball is touching the putting surface after the GIR stroke has been taken. \n",
    "(The GIR stroke is determined by subtracting 2 from par (1st stroke on a par 3, 2nd on a par 4, 3rd on a par 5))'''\n",
    "\n",
    "x_values = df_row_merged['Greens in Regulation Percentage - (%)']\n",
    "y_values = df_row_merged['SG: Approach-the-Green - (TOTAL SG:APP)']\n",
    "f=df_row_merged.loc[df_row_merged['Label']==1]\n",
    "\n",
    "(slope, intercept, rvalue, pvalue, stderr) = linregress(x_values, y_values)\n",
    "regress_values = x_values * slope + intercept\n",
    "line_eq = \"y = \" + str(round(slope,2)) + \"x + \" + str(round(intercept,2))\n",
    "\n",
    "plt.scatter(x_values, y_values)\n",
    "plt.scatter(f['Greens in Regulation Percentage - (%)'],f['SG: Approach-the-Green - (TOTAL SG:APP)'], color='red')\n",
    "plt.plot(x_values,regress_values,\"r-\")\n",
    "# plt.annotate(line_eq,(6,10),fontsize=15,color=\"red\")\n",
    "\n",
    "plt.xlabel('Greens in Regulation Percentage - (%)',size=16)\n",
    "# set y-axis label and specific size\n",
    "plt.ylabel('Strokes Gained',size=16)\n",
    "\n",
    "plt.show()\n",
    "\n",
    "print(f\"The r-squared is: {rvalue}\")\n",
    "\n",
    "# save the plot as PNG file with dpi=150\n",
    "plt.savefig('Greens_in_regulation.png', dpi=150)"
   ]
  },
  {
   "cell_type": "code",
   "execution_count": null,
   "metadata": {},
   "outputs": [],
   "source": [
    "#Birdie or Better Percentage - (%)\n",
    "\n",
    "x_values = df_row_merged['Birdie or Better Percentage - (%)']\n",
    "y_values = df_row_merged['SG: Putting - (TOTAL SG:PUTTING)']\n",
    "f=df_row_merged.loc[df_row_merged['Label']==1]\n",
    "\n",
    "(slope, intercept, rvalue, pvalue, stderr) = linregress(x_values, y_values)\n",
    "regress_values = x_values * slope + intercept\n",
    "line_eq = \"y = \" + str(round(slope,2)) + \"x + \" + str(round(intercept,2))\n",
    "\n",
    "plt.scatter(x_values, y_values)\n",
    "plt.scatter(f['Birdie or Better Percentage - (%)'],f['SG: Putting - (TOTAL SG:PUTTING)'], color='red')\n",
    "plt.plot(x_values,regress_values,\"r-\")\n",
    "# plt.annotate(line_eq,(6,10),fontsize=15,color=\"red\")\n",
    "\n",
    "plt.xlabel('Birdie or Better Percentage - (%)',size=16)\n",
    "# set y-axis label and specific size\n",
    "plt.ylabel('Strokes Gained',size=16)\n",
    "\n",
    "plt.show()\n",
    "\n",
    "print(f\"The r-squared is: {rvalue}\")\n",
    "\n",
    "# save the plot as PNG file with dpi=150\n",
    "plt.savefig('Birdie_or_Better_Percentage.png', dpi=150)"
   ]
  },
  {
   "cell_type": "code",
   "execution_count": null,
   "metadata": {},
   "outputs": [],
   "source": [
    "#3-Putt Avoidance - (%)\n",
    "\n",
    "x_values = df_row_merged['3-Putt Avoidance - (%)']\n",
    "y_values = df_row_merged['SG: Putting - (TOTAL SG:PUTTING)']\n",
    "f=df_row_merged.loc[df_row_merged['Label']==1]\n",
    "\n",
    "(slope, intercept, rvalue, pvalue, stderr) = linregress(x_values, y_values)\n",
    "regress_values = x_values * slope + intercept\n",
    "line_eq = \"y = \" + str(round(slope,2)) + \"x + \" + str(round(intercept,2))\n",
    "\n",
    "plt.scatter(x_values, y_values)\n",
    "plt.scatter(f['3-Putt Avoidance - (%)'],f['SG: Putting - (TOTAL SG:PUTTING)'], color='red')\n",
    "plt.plot(x_values,regress_values,\"r-\")\n",
    "# plt.annotate(line_eq,(6,10),fontsize=15,color=\"red\")\n",
    "\n",
    "plt.xlabel('3-Putt Avoidance - (%)',size=16)\n",
    "# set y-axis label and specific size\n",
    "plt.ylabel('Strokes Gained',size=16)\n",
    "\n",
    "plt.show()\n",
    "\n",
    "print(f\"The r-squared is: {rvalue}\")                                        \n",
    "\n",
    "# save the plot as PNG file with dpi=150\n",
    "plt.savefig('3_putt.png', dpi=150)"
   ]
  },
  {
   "cell_type": "code",
   "execution_count": null,
   "metadata": {},
   "outputs": [],
   "source": []
  },
  {
   "cell_type": "code",
   "execution_count": null,
   "metadata": {},
   "outputs": [],
   "source": []
  },
  {
   "cell_type": "code",
   "execution_count": null,
   "metadata": {},
   "outputs": [],
   "source": []
  },
  {
   "cell_type": "markdown",
   "metadata": {},
   "source": [
    "### Split Data for Training and Testing"
   ]
  },
  {
   "cell_type": "code",
   "execution_count": null,
   "metadata": {},
   "outputs": [],
   "source": []
  },
  {
   "cell_type": "markdown",
   "metadata": {},
   "source": [
    "### Create and Fit Model"
   ]
  },
  {
   "cell_type": "code",
   "execution_count": null,
   "metadata": {},
   "outputs": [],
   "source": []
  },
  {
   "cell_type": "markdown",
   "metadata": {},
   "source": [
    "### Score the Model"
   ]
  },
  {
   "cell_type": "code",
   "execution_count": null,
   "metadata": {},
   "outputs": [],
   "source": []
  },
  {
   "cell_type": "markdown",
   "metadata": {},
   "source": [
    "### Make 10 Predictions"
   ]
  },
  {
   "cell_type": "code",
   "execution_count": null,
   "metadata": {},
   "outputs": [],
   "source": []
  },
  {
   "cell_type": "markdown",
   "metadata": {},
   "source": [
    "### Predict testing Data"
   ]
  },
  {
   "cell_type": "code",
   "execution_count": null,
   "metadata": {},
   "outputs": [],
   "source": []
  },
  {
   "cell_type": "code",
   "execution_count": null,
   "metadata": {},
   "outputs": [],
   "source": []
  },
  {
   "cell_type": "code",
   "execution_count": null,
   "metadata": {},
   "outputs": [],
   "source": []
  },
  {
   "cell_type": "code",
   "execution_count": null,
   "metadata": {},
   "outputs": [],
   "source": []
  },
  {
   "cell_type": "code",
   "execution_count": null,
   "metadata": {},
   "outputs": [],
   "source": []
  },
  {
   "cell_type": "code",
   "execution_count": null,
   "metadata": {},
   "outputs": [],
   "source": []
  },
  {
   "cell_type": "code",
   "execution_count": null,
   "metadata": {},
   "outputs": [],
   "source": []
  },
  {
   "cell_type": "code",
   "execution_count": null,
   "metadata": {},
   "outputs": [],
   "source": []
  }
 ],
 "metadata": {
  "kernelspec": {
   "display_name": "Python 3",
   "language": "python",
   "name": "python3"
  },
  "language_info": {
   "codemirror_mode": {
    "name": "ipython",
    "version": 3
   },
   "file_extension": ".py",
   "mimetype": "text/x-python",
   "name": "python",
   "nbconvert_exporter": "python",
   "pygments_lexer": "ipython3",
   "version": "3.7.4"
  }
 },
 "nbformat": 4,
 "nbformat_minor": 4
}
